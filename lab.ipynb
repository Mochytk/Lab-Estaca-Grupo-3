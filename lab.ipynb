{
 "cells": [
  {
   "cell_type": "markdown",
   "id": "b09bfe0c",
   "metadata": {},
   "source": [
    "# Laboratorio Estadistica Computacional - Grupo 3\n",
    "## Integrantes:\n",
    "* Katherine Huidobro    - Rol: 202304656-6\n",
    "* Sergio Rojas          - Rol: 202273619-4\n",
    "* Daniel Ruiz _(Ausente)_\n",
    "* Domingo Ruiz-Tagle    - Rol: 202273648-8\n",
    "\n"
   ]
  }
 ],
 "metadata": {
  "language_info": {
   "name": "python"
  }
 },
 "nbformat": 4,
 "nbformat_minor": 5
}
