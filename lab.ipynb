{
 "cells": [
  {
   "cell_type": "markdown",
   "id": "b09bfe0c",
   "metadata": {},
   "source": [
    "# Laboratorio INF-280 - Grupo 3\n",
    "## Integrantes:\n",
    "* Katherine Huidobro    - Rol: 202304656-6\n",
    "* Sergio Rojas          - Rol: 202273619-4\n",
    "* Daniel Ruiz _(Ausente)_\n",
    "* Domingo Ruiz-Tagle    - Rol: 202273648-8\n",
    "\n"
   ]
  },
  {
   "cell_type": "markdown",
   "id": "a80558ae",
   "metadata": {},
   "source": [
    "# Objetivo\n",
    "Tiene como objetivo utilizar análisis exploratorio de datos y determinar variables de estudio."
   ]
  }
 ],
 "metadata": {
  "kernelspec": {
   "display_name": "base",
   "language": "python",
   "name": "python3"
  },
  "language_info": {
   "name": "python",
   "version": "3.12.7"
  }
 },
 "nbformat": 4,
 "nbformat_minor": 5
}
